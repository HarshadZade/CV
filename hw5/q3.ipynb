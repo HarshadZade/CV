{
 "cells": [
  {
   "cell_type": "code",
   "execution_count": null,
   "metadata": {},
   "outputs": [],
   "source": []
  },
  {
   "cell_type": "markdown",
   "metadata": {
    "deletable": false,
    "editable": false,
    "nbgrader": {
     "cell_type": "markdown",
     "checksum": "7b38fd4d8449aa5b4a5f1f4c5bd9e9ae",
     "grade": false,
     "grade_id": "cell-0e7c21e26eed41ce",
     "locked": true,
     "schema_version": 3,
     "solution": false,
     "task": false
    }
   },
   "source": [
    "<img align=\"center\" src=\"images/course.png\" width=\"800\">"
   ]
  },
  {
   "cell_type": "markdown",
   "metadata": {
    "deletable": false,
    "editable": false,
    "nbgrader": {
     "cell_type": "markdown",
     "checksum": "cbc753602e9026b6a3cc3aa15d20652e",
     "grade": false,
     "grade_id": "cell-658d093e37a5868a",
     "locked": true,
     "schema_version": 3,
     "solution": false,
     "task": false
    }
   },
   "source": [
    "# 16720 (B)  3D Reconstruction - Assignment 5 - q3\n",
    "    Instructor: Kris                          TAs: Arka, Jinkun, Rawal, Rohan, Sheng-Yu"
   ]
  },
  {
   "cell_type": "code",
   "execution_count": 1,
   "metadata": {
    "deletable": false,
    "editable": false,
    "nbgrader": {
     "cell_type": "code",
     "checksum": "38fc16a29263d3fc710e0dbfefa547e0",
     "grade": false,
     "grade_id": "cell-390ba40b7055feba",
     "locked": true,
     "schema_version": 3,
     "solution": false,
     "task": false
    }
   },
   "outputs": [],
   "source": [
    "# Helper functions for this assignment. DO NOT MODIFY!!!\n",
    "\"\"\"\n",
    "Helper functions.\n",
    "\"\"\"\n",
    "\n",
    "import numpy as np\n",
    "import matplotlib.pyplot as plt\n",
    "import matplotlib\n",
    "import scipy\n",
    "import cv2\n",
    "import nbimporter\n",
    "from q1 import eightpoint, sevenpoint, camera2, _epipoles, calc_epi_error, toHomogenous, _singularize\n",
    "from q2 import find_M2, plot_3D\n",
    "\n",
    "def plot_3D_dual(P_before, P_after):\n",
    "    matplotlib.use('TkAgg')\n",
    "    fig = plt.figure()\n",
    "    ax = fig.add_subplot(111, projection='3d')\n",
    "    ax.set_title(\"Blue: before; red: after\")\n",
    "    ax.scatter(P_before[:,0], P_before[:,1], P_before[:,2], c = 'blue')\n",
    "    ax.scatter(P_after[:,0], P_after[:,1], P_after[:,2], c='red')\n",
    "    while True:\n",
    "        x, y = plt.ginput(1, mouse_stop=2)[0]\n",
    "        plt.draw()\n",
    "\n"
   ]
  },
  {
   "cell_type": "markdown",
   "metadata": {
    "deletable": false,
    "editable": false,
    "nbgrader": {
     "cell_type": "markdown",
     "checksum": "63653dea8996f970b725fdd6782570a3",
     "grade": false,
     "grade_id": "cell-6e33506b3c2e5cee",
     "locked": true,
     "schema_version": 3,
     "solution": false,
     "task": false
    }
   },
   "source": [
    "## Q3: Bundle Adjustment\n",
    "Bundle Adjustment is commonly used as the last step of every feature-based 3D reconstruction algorithm. Given a set of images depicting a number of 3D points from different viewpoints, bundle adjustment is the process of simultaneously refining the 3D coordinates along with the camera parameters. It minimizes reprojection error, which is the squared sum of distances between image points and predicted points. In this section, you will implement bundle adjustment algorithm by yourself. Specifically,\n",
    "\n",
    "\n",
    "- In Q3.1, you need to implement a RANSAC algorithm to estimate the fundamental matrix F and all the inliers.\n",
    "- In Q3.2, you will need to write code to parameterize Rotation matrix $\\mathbf{R}$ using [Rodrigues formula](https://en.wikipedia.org/wiki/Rodrigues\\%27\\_formul) (Please check [this pdf](https://www2.cs.duke.edu/courses/fall13/compsci527/notes/rodrigues.pdf) for a detailed explanation), which will enable the joint optimization process for Bundle Adjustment.\n",
    "- Q3.3, you will need to first write down the objective function in rodriguesResidual, and do the bundleAdjustment.\n",
    "\n",
    "### Q3.1 RANSAC for Fundamental Matrix Recovery (15 pt implementation)\n",
    "\n",
    "In some real world applications, manually determining correspondences is infeasible and often there will be noisy correspondences. Fortunately, the RANSAC method seen (and implemented in previous assignments) in class can be applied to the problem of fundamental matrix estimation.\n",
    "\n",
    "Implement the above algorithm with the signature:\n",
    "```\n",
    "[F, inliers] = ransacF(pts1, pts2, M)\n",
    "```\n",
    "\n",
    "where `M` is defined in the same way as when we calculate the fundamental matrix and inliers is a boolean vector of size equivalent to the number of points. Here inliers are set to true only for the points that satisfy the threshold defined for the given fundamental matrix F.\n",
    "\n",
    "We have provided some noisy coorespondances in some\\_corresp\\_noisy.npz in which around $75\\%$ of the points are inliers. Compare the result of RANSAC with the result of the eight-point algorithm when ran on the noisy correspondences. \n",
    "\n",
    "**Hints:** Use the seven point to compute the fundamental matrix from the minimal set of points. Then compute the inliers, and refine your estimate using all the inliers.\n"
   ]
  },
  {
   "cell_type": "code",
   "execution_count": 2,
   "metadata": {
    "deletable": false,
    "nbgrader": {
     "cell_type": "code",
     "checksum": "40a39130502960617347560f7a07f910",
     "grade": false,
     "grade_id": "cell-450fffa620eaf4bc",
     "locked": false,
     "schema_version": 3,
     "solution": true,
     "task": false
    }
   },
   "outputs": [],
   "source": [
    "def ransacF(pts1, pts2, M):\n",
    "    '''\n",
    "    Q3.1: RANSAC method.\n",
    "        Input:  pts1, Nx2 Matrix\n",
    "                pts2, Nx2 Matrix\n",
    "                M, a scaler parameter\n",
    "        Output: F, the fundamental matrix\n",
    "                inlier_curr, Nx1 bool vector set to true for inliers\n",
    "    ***\n",
    "    Hints:\n",
    "    (1) You can use the calc_epi_error from q1 with threshold to calcualte inliers. Tune the threshold based on \n",
    "        the results/expected number of inliners. You can also define your own metric. \n",
    "    (2) Use the seven point alogrithm to estimate the fundamental matrix as done in q1\n",
    "    (3) Choose the resulting F that has the most number of inliers\n",
    "    (4) You can increase the nIters to bigger/smaller values\n",
    "        \n",
    "    '''\n",
    "    N = pts1.shape[0]\n",
    "    pts1_homo, pts2_homo = toHomogenous(pts1), toHomogenous(pts2)\n",
    "    threshold = 10\n",
    "    max_itaration = 1000\n",
    "    best_inlier = 0\n",
    "    inlier_curr = None\n",
    "    # ----- TODO -----\n",
    "    # YOUR CODE HERE\n",
    "\n",
    "    # T = np.diag([1/M,1/M,1])\n",
    "    # pts1_homo_norm = np.matmul(pts1_homo, T)\n",
    "    # pts2_homo_norm = np.matmul(pts2_homo, T)\n",
    "    for i in range(max_itaration):\n",
    "        \n",
    "        idxs = np.random.choice(N, size=7, replace=False)\n",
    "        # coords1 = np.array([pts1_homo[idxs,0], pts1_homo[idxs,1]])\n",
    "        coords1 = np.array(pts1[idxs])\n",
    "        # coords2 = np.array([pts2_homo[idxs,0], pts2_homo[idxs,1]])\n",
    "        coords2 = np.array(pts2[idxs])\n",
    "        # print(coords1.shape, coords2.shape)\n",
    "        F = sevenpoint(coords1, coords2, M)\n",
    "\n",
    "        for f in F:\n",
    "            dist = calc_epi_error(pts1_homo, pts2_homo, f)\n",
    "            inlier_curr = dist < threshold\n",
    "            inlier_count = np.sum(inlier_curr)\n",
    "            if inlier_count > best_inlier:\n",
    "                best_inlier = inlier_count\n",
    "                best_inlier_curr = inlier_curr\n",
    "                F_best = f\n",
    "    F = F_best\n",
    "    inlier_curr = best_inlier_curr\n",
    "    # raise NotImplementedError()\n",
    "    return F, inlier_curr\n",
    "\n",
    "\n",
    "np.random.seed(0)\n",
    "np.set_printoptions(precision=4, suppress=1)\n",
    "correspondence = np.load('data/some_corresp_noisy.npz') # Loading noisy correspondences\n",
    "intrinsics = np.load('data/intrinsics.npz') # Loading the intrinscis of the camera\n",
    "K1, K2 = intrinsics['K1'], intrinsics['K2']\n",
    "pts1, pts2 = correspondence['pts1'], correspondence['pts2']\n",
    "im1 = plt.imread('data/im1.png')\n",
    "im2 = plt.imread('data/im2.png')\n",
    "F, inliners = ransacF(pts1, pts2, M=np.max([*im1.shape, *im2.shape]))\n",
    "# print(len(F))\n"
   ]
  },
  {
   "cell_type": "code",
   "execution_count": 3,
   "metadata": {
    "deletable": false,
    "editable": false,
    "nbgrader": {
     "cell_type": "code",
     "checksum": "026f701c5050c32f478ec2bb606f849e",
     "grade": true,
     "grade_id": "q3_1_a",
     "locked": true,
     "points": 15,
     "schema_version": 3,
     "solution": false,
     "task": false
    }
   },
   "outputs": [
    {
     "name": "stdout",
     "output_type": "stream",
     "text": [
      "Test passed!\n"
     ]
    }
   ],
   "source": [
    "# Full set of tests; you will get full points for coding if passing the following tests. \n",
    "try:\n",
    "    assert(np.sum(inliners) > len(pts1) * 0.7)\n",
    "    print('Test passed!')\n",
    "except:\n",
    "    raise AssertionError('Test failed')"
   ]
  },
  {
   "cell_type": "markdown",
   "metadata": {
    "deletable": false,
    "editable": false,
    "nbgrader": {
     "cell_type": "markdown",
     "checksum": "e8b726917dad5ac710485168269e58e9",
     "grade": false,
     "grade_id": "cell-0b8fd67e54fadaa8",
     "locked": true,
     "schema_version": 3,
     "solution": false,
     "task": false
    }
   },
   "source": [
    "### Q3.2 Rodrigues and Invsere Rodrigues (10 pt implementation)\n",
    "So far we have independently solved for the camera matrix, $\\mathbf{M}_j$ and 3D projections, $\\textbf{w}_i$. In bundle adjustment, we will jointly optimize the reprojection error with respect to the points $\\textbf{w}_i$ and the camera matrix $\\textbf{w}_j$.\n",
    "\n",
    "$$\n",
    "err = \\sum_{ij} ||\\textbf{x}_{ij} - Proj(\\mathbf{C}_j, \\textbf{w}_i)||^2,\n",
    "$$\n",
    "where $\\textbf{w}_j = \\mathbf{K}_j \\mathbf{M}_j$.\n",
    "\n",
    "For this homework, we are going to only look at optimizing the extrinsic matrix. The rotation matrix forms the Lie Group $\\textbf{SO}(3)$ that doesn't satisfy the addition operation so it cannot be directly optimized. Instead, we parameterize the rotation matrix to axis angle using Rodrigues formula to the Lie Algebra $\\mathfrak{so}(3)$, which is defined in $\\mathbb{R}^3$. through which the least squares optimization process can be done to optimize the axis angle. Try to implement function\n",
    "\n",
    "```\n",
    "R = rodrigues(r)\n",
    "```\n",
    "\n",
    "as well as the inverse function that converts a rotation matrix $\\mathbf{R}$ to a Rodrigues vector $\\mathbf{r}$\n",
    "\n",
    "```\n",
    "r = invRodrigues(R)\n",
    "```\n",
    "\n",
    "Please refer to [Rodrigues formula](https://en.wikipedia.org/wiki/Rodrigues\\%27\\_formul)  and [this pdf](https://www2.cs.duke.edu/courses/fall13/compsci527/notes/rodrigues.pdf) for reference.\n"
   ]
  },
  {
   "cell_type": "code",
   "execution_count": 4,
   "metadata": {
    "deletable": false,
    "nbgrader": {
     "cell_type": "code",
     "checksum": "0723daffdd025e6e90dffcca9f785f9d",
     "grade": true,
     "grade_id": "cell-f7107c598b84fe13",
     "locked": false,
     "points": 0,
     "schema_version": 3,
     "solution": true,
     "task": false
    }
   },
   "outputs": [],
   "source": [
    "def rodrigues(r):\n",
    "    '''\n",
    "    Q3.2: Rodrigues formula.\n",
    "        Input:  r, a 3x1 vector\n",
    "        Output: R, a 3x3 rotation matrix\n",
    "    '''\n",
    "    # ----- TODO -----\n",
    "    # YOUR CODE HERE\\\n",
    "    r = r.reshape((3,1))\n",
    "    theta = np.linalg.norm(r)\n",
    "    I = np.diag(np.ones(3))\n",
    "    if theta == 0:\n",
    "        return I\n",
    "    u = r/theta\n",
    "    # print(\"u is\",u)\n",
    "    # print(\"u[0] is\",u[0,0])\n",
    "    u_x = np.array([[0, -u[2,0], u[1,0]],\n",
    "                    [u[2,0], 0 , -u[0,0]],\n",
    "                    [-u[1,0], u[0,0], 0]])\n",
    "    R = I*np.cos(theta) + (1-np.cos(theta))*u@u.T + u_x*np.sin(theta)\n",
    "    # raise NotImplementedError()\n",
    "    return R\n",
    "\n",
    "\n",
    "def invRodrigues(R):\n",
    "    '''\n",
    "    Q5.2: Inverse Rodrigues formula.\n",
    "        Input:  R, a 3x3 rotation matrix\n",
    "        Output: r, a 3x1 vector\n",
    "    '''\n",
    "    # ----- TODO -----\n",
    "    # YOUR CODE HERE\n",
    "\n",
    "    I = np.diag(np.ones(3))\n",
    "    A = (R - R.T)/2\n",
    "    rho = np.array([[A[2,1]], [A[0,2]], [A[1,0]]])\n",
    "    s = np.linalg.norm(rho)\n",
    "    c = (R.trace() - 1) / 2\n",
    "    \n",
    "    if s == 0 and c == 1:\n",
    "        r = np.zeros((3,1))\n",
    "        r = r.reshape(3)\n",
    "        return r\n",
    "    \n",
    "    elif s == 0 and c == -1:\n",
    "        mat = R+I\n",
    "        v = mat[:, mat.any(axis=1)][0]\n",
    "        u = v / np.linalg.norm(v)\n",
    "        r = u * np.pi\n",
    "        if np.linalg.norm(r) == np.pi and ((r[0] == 0 and r[1] == 0 and r[2] < 0) or (r[0] == 0 and r[1] < 0) or (r[0] < 0)):\n",
    "            r = -r\n",
    "            r = r.reshape(3)\n",
    "            return r\n",
    "        else:\n",
    "            r = r.reshape(3)\n",
    "            return r\n",
    "    \n",
    "    else:\n",
    "        u = rho/s\n",
    "        theta = np.arctan2(s, c)\n",
    "        r = u * theta\n",
    "        r = r.reshape(3)\n",
    "        return r\n",
    "\n",
    "\n",
    "    # raise NotImplementedError()\n",
    "    # return r\n"
   ]
  },
  {
   "cell_type": "code",
   "execution_count": 5,
   "metadata": {
    "deletable": false,
    "editable": false,
    "nbgrader": {
     "cell_type": "code",
     "checksum": "c1c828ae74013e65d61782f4b03230c3",
     "grade": true,
     "grade_id": "q3_2_a",
     "locked": true,
     "points": 3,
     "schema_version": 3,
     "solution": false,
     "task": false
    }
   },
   "outputs": [
    {
     "name": "stdout",
     "output_type": "stream",
     "text": [
      "[[ 0.9106  0.027   0.4125]\n",
      " [ 0.3733 -0.4822 -0.7926]\n",
      " [ 0.1774  0.8757 -0.4491]]\n",
      "Test passed!\n"
     ]
    }
   ],
   "source": [
    "# Simple Tests to verify your implmentation:\n",
    "from scipy.spatial.transform import Rotation as sRot\n",
    "rotVec = sRot.random()\n",
    "mat = rodrigues(rotVec.as_rotvec())\n",
    "print(mat)\n",
    "\n",
    "\n",
    "try:\n",
    "    assert(np.linalg.norm(rotVec.as_rotvec() - invRodrigues(mat)) < 1e-3)\n",
    "    assert(np.linalg.norm(rotVec.as_matrix() - mat) < 1e-3)\n",
    "    print('Test passed!')\n",
    "except:\n",
    "    print('Test failed!')\n"
   ]
  },
  {
   "cell_type": "code",
   "execution_count": 6,
   "metadata": {
    "deletable": false,
    "editable": false,
    "nbgrader": {
     "cell_type": "code",
     "checksum": "e11db5c7284825dc336b6f7b7206a97c",
     "grade": true,
     "grade_id": "q3_2_b",
     "locked": true,
     "points": 7,
     "schema_version": 3,
     "solution": false,
     "task": false
    }
   },
   "outputs": [],
   "source": [
    "# Hidden Tests"
   ]
  },
  {
   "cell_type": "markdown",
   "metadata": {
    "deletable": false,
    "editable": false,
    "nbgrader": {
     "cell_type": "markdown",
     "checksum": "66157d998361fe4480f8c0717bc4235a",
     "grade": false,
     "grade_id": "cell-7e9d53a35b7095e0",
     "locked": true,
     "schema_version": 3,
     "solution": false,
     "task": false
    }
   },
   "source": [
    "### Q3.3 Bundle Adjustment (10 pt writeup)\n",
    "\n",
    "In this section, you need to implement the bundle adjustment algorithm. Using the parameterization you implemented in the last question, write an objective function for the extrinsic optimization:\n",
    "\n",
    "```\n",
    "residuals = rodriguesResidual(K1, M1, p1, K2, p2, x)\n",
    "```\n",
    "where x is the flattened concatenation of $\\mathbf{w}$, $\\mathbf{r}_2$, and $\\mathbf{t}_2$.\n",
    "$\\mathbf{w}$ are the 3D points; $\\mathbf{r}_2$ and $\\mathbf{t}_2$ are the rotation (in the Rodrigues vector form) and translation vectors associated with the projection matrix $\\mathbf{M}_2$; $p1$ and $p2$ are 2D coordinates of points in image 1 and 2, respectively. The `residuals` are the difference between the original image projections and the estimated projections (the square of $2$-norm of this vector corresponds to the error we computed in Q3.2):\n",
    "```\n",
    "residuals = numpy.concatenate([(p1-p1').reshape([-1]), (p2-p2').reshape([-1])])\n",
    "```\n",
    "\n",
    "Use this objective function and Scipy's nonlinear least squares optimizer $\\texttt{leastsq}$ write a function to optimize for the best extrinsic matrix and 3D points using the inlier correspondences from some_corresp_noisy.npz and the RANSAC estimate of the extrinsics and 3D points as an initialization.\n",
    "\n",
    "```\n",
    "[M2, w, o1, o2] = bundleAdjustment(K1, M1, p1, K2, M2_init, p2, p_init)\n",
    "```\n",
    "\n",
    "Try to extract the rotation and translation from `M2_init`, then use `invRodrigues` you implemented previously to transform the rotation, concatenate it with translation and the 3D points, then the concatenate vector are variables to be optimized. After obtaining optimized vector, decompose it back to rotation using `Rodrigues` you implemented previously, translation and 3D points coordinates.\n",
    "\n",
    "<span style='color:red'>**Output:**</span> In your write-up: include an image of output of the `plot_3D_dual` function by passing in the original 3D points and the optimized points. Also include the before and after reprojection error for the `rodriguesResidual` function.\n",
    "\n"
   ]
  },
  {
   "cell_type": "code",
   "execution_count": 7,
   "metadata": {
    "deletable": false,
    "nbgrader": {
     "cell_type": "code",
     "checksum": "dd47def2203bf2ac3c9ec5387769e73c",
     "grade": false,
     "grade_id": "cell-21b599d494aeefec",
     "locked": false,
     "schema_version": 3,
     "solution": true,
     "task": false
    }
   },
   "outputs": [],
   "source": [
    "def get_residual_norm(x, K1, M1, p1, K2, p2):\n",
    "    residuals = rodriguesResidual(K1, M1, p1, K2, p2,x )\n",
    "    return np.linalg.norm(residuals)\n",
    "\n",
    "\n",
    "def rodriguesResidual(K1, M1, p1, K2, p2, x):\n",
    "    '''\n",
    "    Q3.3: Rodrigues residual.\n",
    "        Input:  K1, the intrinsics of camera 1\n",
    "                M1, the extrinsics of camera 1\n",
    "                p1, the 2D coordinates of points in image 1\n",
    "                K2, the intrinsics of camera 2\n",
    "                p2, the 2D coordinates of points in image 2\n",
    "                x, the flattened concatenationg of P, r2, and t2.\n",
    "        Output: residuals, 4N x 1 vector, the difference between original \n",
    "                and estimated projections\n",
    "    '''\n",
    "    residuals = None\n",
    "    # ----- TODO -----\n",
    "    # YOUR CODE HERE\n",
    "    \n",
    "    N = p1.shape[0]\n",
    "    t = x[-3:]\n",
    "    t = t.reshape((3,1))\n",
    "    r = x[-6:-3]\n",
    "    r = r.reshape((3,1))\n",
    "    R = rodrigues(r)\n",
    "\n",
    "    M2 = np.hstack((R,t))\n",
    "\n",
    "    X = x[:3*N]\n",
    "    X = X.reshape((N,3))\n",
    "    # X_homo = toHomogenous(X)\n",
    "    # print(X.shape)\n",
    "    X_homo = np.concatenate((X, np.ones((X.shape[0],1))), axis=1)\n",
    "    # print(X_homo.shape)\n",
    "    P1 = K1 @ M1\n",
    "    x1_reproj = P1 @ X_homo.T\n",
    "    x1_reproj = x1_reproj/x1_reproj[-1]\n",
    "    # print(\"before t\",x1_reproj.shape)\n",
    "    x1_reproj = np.transpose(x1_reproj)\n",
    "    # print(\"after t\",x1_reproj[:,:2].shape)\n",
    "\n",
    "    P2 = K2 @ M2\n",
    "    x2_reproj = P2 @ X_homo.T\n",
    "    x2_reproj = x2_reproj/x2_reproj[-1]\n",
    "    x2_reproj = np.transpose(x2_reproj)\n",
    "    # print(p1.shape)\n",
    "    residuals = np.concatenate([(p1-x1_reproj[:,:2]).reshape([-1]), (p2-x2_reproj[:,:2]).reshape([-1])])\n",
    "    \n",
    "\n",
    "    # raise NotImplementedError()\n",
    "    return residuals\n",
    "\n",
    "\n",
    "def bundleAdjustment(K1, M1, p1, K2, M2_init, p2, P_init):\n",
    "    '''\n",
    "    Q3.3 Bundle adjustment.\n",
    "        Input:  K1, the intrinsics of camera 1\n",
    "                M1, the extrinsics of camera 1\n",
    "                p1, the 2D coordinates of points in image 1\n",
    "                K2,  the intrinsics of camera 2\n",
    "                M2_init, the initial extrinsics of camera 1\n",
    "                p2, the 2D coordinates of points in image 2\n",
    "                P_init, the initial 3D coordinates of points\n",
    "        Output: M2, the optimized extrinsics of camera 1\n",
    "                P2, the optimized 3D coordinates of points\n",
    "                o1, the starting objective function value with the initial input\n",
    "                o2, the ending objective function value after bundle adjustment\n",
    "    \n",
    "    ***\n",
    "    Hints:\n",
    "    (1) Use the scipy.optimize.minimize function to minimize the objective function, rodriguesResidual. \n",
    "        You can try different (method='..') in scipy.optimize.minimize for best results. \n",
    "    '''\n",
    "    # print(\"lets ee if its \")\n",
    "    obj_start = obj_end = 0\n",
    "    # ----- TODO -----\n",
    "    # YOUR CODE HERE\n",
    "    N = p1.shape[0]\n",
    "    t = M2_init[:,-1]\n",
    "    R = M2_init[:,:3]\n",
    "    r = invRodrigues(R)\n",
    "    \n",
    "    x = np.concatenate([P_init.flatten(), r.flatten(), t.flatten()])\n",
    "    obj_start = get_residual_norm(x, K1, M1, p1, K2, p2)\n",
    "\n",
    "    params = scipy.optimize.minimize(get_residual_norm, x, (K1, M1, p1, K2, p2))\n",
    "    x_optimized = params.x\n",
    "\n",
    "    P2 = x_optimized[:3*N]\n",
    "    P2 = P2.reshape((N,3))\n",
    "    \n",
    "    t2 = x_optimized[-3:]\n",
    "    t2 = t2.reshape((3,1))\n",
    "    r2 = x_optimized[-6:-3]\n",
    "    r2 = r2.reshape((3,1))\n",
    "\n",
    "    R2 = rodrigues(r2)\n",
    "    M2 = np.hstack((R2,t2))\n",
    "\n",
    "    obj_end = get_residual_norm(x_optimized, K1, M1, p1, K2, p2)\n",
    "    # raise NotImplementedError()\n",
    "    return M2, P2, obj_start, obj_end\n"
   ]
  },
  {
   "cell_type": "code",
   "execution_count": 8,
   "metadata": {
    "deletable": false,
    "editable": false,
    "nbgrader": {
     "cell_type": "code",
     "checksum": "9b601769f0b6918b5e620d90e5886981",
     "grade": false,
     "grade_id": "cell-cb33726364687902",
     "locked": true,
     "schema_version": 3,
     "solution": false,
     "task": false
    }
   },
   "outputs": [
    {
     "name": "stdout",
     "output_type": "stream",
     "text": [
      "Best Error [52364.8016]\n",
      "(3, 4) (3, 4)\n",
      "(3, 4) (3, 4)\n",
      "Before 238.92786884075895, After 11.348249171063372\n"
     ]
    },
    {
     "ename": "TclError",
     "evalue": "invalid command name \"pyimage10\"",
     "output_type": "error",
     "traceback": [
      "\u001b[0;31m---------------------------------------------------------------------------\u001b[0m",
      "\u001b[0;31mTclError\u001b[0m                                  Traceback (most recent call last)",
      "File \u001b[0;32m~/.local/lib/python3.8/site-packages/matplotlib/blocking_input.py:93\u001b[0m, in \u001b[0;36mBlockingInput.__call__\u001b[0;34m(self, n, timeout)\u001b[0m\n\u001b[1;32m     91\u001b[0m \u001b[39mtry\u001b[39;00m:\n\u001b[1;32m     92\u001b[0m     \u001b[39m# Start event loop.\u001b[39;00m\n\u001b[0;32m---> 93\u001b[0m     \u001b[39mself\u001b[39;49m\u001b[39m.\u001b[39;49mfig\u001b[39m.\u001b[39;49mcanvas\u001b[39m.\u001b[39;49mstart_event_loop(timeout\u001b[39m=\u001b[39;49mtimeout)\n\u001b[1;32m     94\u001b[0m \u001b[39mfinally\u001b[39;00m:  \u001b[39m# Run even on exception like ctrl-c.\u001b[39;00m\n\u001b[1;32m     95\u001b[0m     \u001b[39m# Disconnect the callbacks.\u001b[39;00m\n",
      "File \u001b[0;32m~/.local/lib/python3.8/site-packages/matplotlib/backend_bases.py:2407\u001b[0m, in \u001b[0;36mFigureCanvasBase.start_event_loop\u001b[0;34m(self, timeout)\u001b[0m\n\u001b[1;32m   2406\u001b[0m \u001b[39mwhile\u001b[39;00m \u001b[39mself\u001b[39m\u001b[39m.\u001b[39m_looping \u001b[39mand\u001b[39;00m counter \u001b[39m*\u001b[39m timestep \u001b[39m<\u001b[39m timeout:\n\u001b[0;32m-> 2407\u001b[0m     \u001b[39mself\u001b[39;49m\u001b[39m.\u001b[39;49mflush_events()\n\u001b[1;32m   2408\u001b[0m     time\u001b[39m.\u001b[39msleep(timestep)\n",
      "File \u001b[0;32m~/.local/lib/python3.8/site-packages/matplotlib/backends/_backend_tk.py:390\u001b[0m, in \u001b[0;36mFigureCanvasTk.flush_events\u001b[0;34m(self)\u001b[0m\n\u001b[1;32m    388\u001b[0m \u001b[39mdef\u001b[39;00m \u001b[39mflush_events\u001b[39m(\u001b[39mself\u001b[39m):\n\u001b[1;32m    389\u001b[0m     \u001b[39m# docstring inherited\u001b[39;00m\n\u001b[0;32m--> 390\u001b[0m     \u001b[39mself\u001b[39;49m\u001b[39m.\u001b[39;49m_master\u001b[39m.\u001b[39;49mupdate()\n",
      "File \u001b[0;32m/usr/lib/python3.8/tkinter/__init__.py:1314\u001b[0m, in \u001b[0;36mMisc.update\u001b[0;34m(self)\u001b[0m\n\u001b[1;32m   1313\u001b[0m \u001b[39m\"\"\"Enter event loop until all pending events have been processed by Tcl.\"\"\"\u001b[39;00m\n\u001b[0;32m-> 1314\u001b[0m \u001b[39mself\u001b[39;49m\u001b[39m.\u001b[39;49mtk\u001b[39m.\u001b[39;49mcall(\u001b[39m'\u001b[39;49m\u001b[39mupdate\u001b[39;49m\u001b[39m'\u001b[39;49m)\n",
      "\u001b[0;31mTclError\u001b[0m: can't invoke \"update\" command: application has been destroyed",
      "\nDuring handling of the above exception, another exception occurred:\n",
      "\u001b[0;31mTclError\u001b[0m                                  Traceback (most recent call last)",
      "\u001b[1;32m/home/harshad/learning/tutorial-env/CV/hw5/q3.ipynb Cell 14\u001b[0m in \u001b[0;36m<cell line: 22>\u001b[0;34m()\u001b[0m\n\u001b[1;32m     <a href='vscode-notebook-cell:/home/harshad/learning/tutorial-env/CV/hw5/q3.ipynb#X16sZmlsZQ%3D%3D?line=19'>20</a>\u001b[0m M2, P_final, obj_start, obj_end \u001b[39m=\u001b[39m bundleAdjustment(K1, M1, pts1_inliners, K2, M2_init, pts2_inliners, P_init)\n\u001b[1;32m     <a href='vscode-notebook-cell:/home/harshad/learning/tutorial-env/CV/hw5/q3.ipynb#X16sZmlsZQ%3D%3D?line=20'>21</a>\u001b[0m \u001b[39mprint\u001b[39m(\u001b[39mf\u001b[39m\u001b[39m\"\u001b[39m\u001b[39mBefore \u001b[39m\u001b[39m{\u001b[39;00mobj_start\u001b[39m}\u001b[39;00m\u001b[39m, After \u001b[39m\u001b[39m{\u001b[39;00mobj_end\u001b[39m}\u001b[39;00m\u001b[39m\"\u001b[39m)\n\u001b[0;32m---> <a href='vscode-notebook-cell:/home/harshad/learning/tutorial-env/CV/hw5/q3.ipynb#X16sZmlsZQ%3D%3D?line=21'>22</a>\u001b[0m plot_3D_dual(P_init, P_final)\n",
      "\u001b[1;32m/home/harshad/learning/tutorial-env/CV/hw5/q3.ipynb Cell 14\u001b[0m in \u001b[0;36mplot_3D_dual\u001b[0;34m(P_before, P_after)\u001b[0m\n\u001b[1;32m     <a href='vscode-notebook-cell:/home/harshad/learning/tutorial-env/CV/hw5/q3.ipynb#X16sZmlsZQ%3D%3D?line=20'>21</a>\u001b[0m ax\u001b[39m.\u001b[39mscatter(P_after[:,\u001b[39m0\u001b[39m], P_after[:,\u001b[39m1\u001b[39m], P_after[:,\u001b[39m2\u001b[39m], c\u001b[39m=\u001b[39m\u001b[39m'\u001b[39m\u001b[39mred\u001b[39m\u001b[39m'\u001b[39m)\n\u001b[1;32m     <a href='vscode-notebook-cell:/home/harshad/learning/tutorial-env/CV/hw5/q3.ipynb#X16sZmlsZQ%3D%3D?line=21'>22</a>\u001b[0m \u001b[39mwhile\u001b[39;00m \u001b[39mTrue\u001b[39;00m:\n\u001b[0;32m---> <a href='vscode-notebook-cell:/home/harshad/learning/tutorial-env/CV/hw5/q3.ipynb#X16sZmlsZQ%3D%3D?line=22'>23</a>\u001b[0m     x, y \u001b[39m=\u001b[39m plt\u001b[39m.\u001b[39;49mginput(\u001b[39m1\u001b[39;49m, mouse_stop\u001b[39m=\u001b[39;49m\u001b[39m2\u001b[39;49m)[\u001b[39m0\u001b[39m]\n\u001b[1;32m     <a href='vscode-notebook-cell:/home/harshad/learning/tutorial-env/CV/hw5/q3.ipynb#X16sZmlsZQ%3D%3D?line=23'>24</a>\u001b[0m     plt\u001b[39m.\u001b[39mdraw()\n",
      "File \u001b[0;32m~/.local/lib/python3.8/site-packages/matplotlib/pyplot.py:2383\u001b[0m, in \u001b[0;36mginput\u001b[0;34m(n, timeout, show_clicks, mouse_add, mouse_pop, mouse_stop)\u001b[0m\n\u001b[1;32m   2378\u001b[0m \u001b[39m@_copy_docstring_and_deprecators\u001b[39m(Figure\u001b[39m.\u001b[39mginput)\n\u001b[1;32m   2379\u001b[0m \u001b[39mdef\u001b[39;00m \u001b[39mginput\u001b[39m(\n\u001b[1;32m   2380\u001b[0m         n\u001b[39m=\u001b[39m\u001b[39m1\u001b[39m, timeout\u001b[39m=\u001b[39m\u001b[39m30\u001b[39m, show_clicks\u001b[39m=\u001b[39m\u001b[39mTrue\u001b[39;00m,\n\u001b[1;32m   2381\u001b[0m         mouse_add\u001b[39m=\u001b[39mMouseButton\u001b[39m.\u001b[39mLEFT, mouse_pop\u001b[39m=\u001b[39mMouseButton\u001b[39m.\u001b[39mRIGHT,\n\u001b[1;32m   2382\u001b[0m         mouse_stop\u001b[39m=\u001b[39mMouseButton\u001b[39m.\u001b[39mMIDDLE):\n\u001b[0;32m-> 2383\u001b[0m     \u001b[39mreturn\u001b[39;00m gcf()\u001b[39m.\u001b[39;49mginput(\n\u001b[1;32m   2384\u001b[0m         n\u001b[39m=\u001b[39;49mn, timeout\u001b[39m=\u001b[39;49mtimeout, show_clicks\u001b[39m=\u001b[39;49mshow_clicks,\n\u001b[1;32m   2385\u001b[0m         mouse_add\u001b[39m=\u001b[39;49mmouse_add, mouse_pop\u001b[39m=\u001b[39;49mmouse_pop,\n\u001b[1;32m   2386\u001b[0m         mouse_stop\u001b[39m=\u001b[39;49mmouse_stop)\n",
      "File \u001b[0;32m~/.local/lib/python3.8/site-packages/matplotlib/figure.py:2453\u001b[0m, in \u001b[0;36mFigure.ginput\u001b[0;34m(self, n, timeout, show_clicks, mouse_add, mouse_pop, mouse_stop)\u001b[0m\n\u001b[1;32m   2404\u001b[0m \u001b[39m\"\"\"\u001b[39;00m\n\u001b[1;32m   2405\u001b[0m \u001b[39mBlocking call to interact with a figure.\u001b[39;00m\n\u001b[1;32m   2406\u001b[0m \n\u001b[0;32m   (...)\u001b[0m\n\u001b[1;32m   2447\u001b[0m \u001b[39mmanager) selects a point.\u001b[39;00m\n\u001b[1;32m   2448\u001b[0m \u001b[39m\"\"\"\u001b[39;00m\n\u001b[1;32m   2449\u001b[0m blocking_mouse_input \u001b[39m=\u001b[39m BlockingMouseInput(\u001b[39mself\u001b[39m,\n\u001b[1;32m   2450\u001b[0m                                           mouse_add\u001b[39m=\u001b[39mmouse_add,\n\u001b[1;32m   2451\u001b[0m                                           mouse_pop\u001b[39m=\u001b[39mmouse_pop,\n\u001b[1;32m   2452\u001b[0m                                           mouse_stop\u001b[39m=\u001b[39mmouse_stop)\n\u001b[0;32m-> 2453\u001b[0m \u001b[39mreturn\u001b[39;00m blocking_mouse_input(n\u001b[39m=\u001b[39;49mn, timeout\u001b[39m=\u001b[39;49mtimeout,\n\u001b[1;32m   2454\u001b[0m                             show_clicks\u001b[39m=\u001b[39;49mshow_clicks)\n",
      "File \u001b[0;32m~/.local/lib/python3.8/site-packages/matplotlib/blocking_input.py:267\u001b[0m, in \u001b[0;36mBlockingMouseInput.__call__\u001b[0;34m(self, n, timeout, show_clicks)\u001b[0m\n\u001b[1;32m    265\u001b[0m \u001b[39mself\u001b[39m\u001b[39m.\u001b[39mclicks \u001b[39m=\u001b[39m []\n\u001b[1;32m    266\u001b[0m \u001b[39mself\u001b[39m\u001b[39m.\u001b[39mmarks \u001b[39m=\u001b[39m []\n\u001b[0;32m--> 267\u001b[0m BlockingInput\u001b[39m.\u001b[39;49m\u001b[39m__call__\u001b[39;49m(\u001b[39mself\u001b[39;49m, n\u001b[39m=\u001b[39;49mn, timeout\u001b[39m=\u001b[39;49mtimeout)\n\u001b[1;32m    268\u001b[0m \u001b[39mreturn\u001b[39;00m \u001b[39mself\u001b[39m\u001b[39m.\u001b[39mclicks\n",
      "File \u001b[0;32m~/.local/lib/python3.8/site-packages/matplotlib/blocking_input.py:96\u001b[0m, in \u001b[0;36mBlockingInput.__call__\u001b[0;34m(self, n, timeout)\u001b[0m\n\u001b[1;32m     93\u001b[0m     \u001b[39mself\u001b[39m\u001b[39m.\u001b[39mfig\u001b[39m.\u001b[39mcanvas\u001b[39m.\u001b[39mstart_event_loop(timeout\u001b[39m=\u001b[39mtimeout)\n\u001b[1;32m     94\u001b[0m \u001b[39mfinally\u001b[39;00m:  \u001b[39m# Run even on exception like ctrl-c.\u001b[39;00m\n\u001b[1;32m     95\u001b[0m     \u001b[39m# Disconnect the callbacks.\u001b[39;00m\n\u001b[0;32m---> 96\u001b[0m     \u001b[39mself\u001b[39;49m\u001b[39m.\u001b[39;49mcleanup()\n\u001b[1;32m     97\u001b[0m \u001b[39m# Return the events in this case.\u001b[39;00m\n\u001b[1;32m     98\u001b[0m \u001b[39mreturn\u001b[39;00m \u001b[39mself\u001b[39m\u001b[39m.\u001b[39mevents\n",
      "File \u001b[0;32m~/.local/lib/python3.8/site-packages/matplotlib/blocking_input.py:256\u001b[0m, in \u001b[0;36mBlockingMouseInput.cleanup\u001b[0;34m(self, event)\u001b[0m\n\u001b[1;32m    254\u001b[0m         mark\u001b[39m.\u001b[39mremove()\n\u001b[1;32m    255\u001b[0m     \u001b[39mself\u001b[39m\u001b[39m.\u001b[39mmarks \u001b[39m=\u001b[39m []\n\u001b[0;32m--> 256\u001b[0m     \u001b[39mself\u001b[39;49m\u001b[39m.\u001b[39;49mfig\u001b[39m.\u001b[39;49mcanvas\u001b[39m.\u001b[39;49mdraw()\n\u001b[1;32m    257\u001b[0m \u001b[39m# Call base class to remove callbacks.\u001b[39;00m\n\u001b[1;32m    258\u001b[0m BlockingInput\u001b[39m.\u001b[39mcleanup(\u001b[39mself\u001b[39m)\n",
      "File \u001b[0;32m~/.local/lib/python3.8/site-packages/matplotlib/backends/backend_tkagg.py:10\u001b[0m, in \u001b[0;36mFigureCanvasTkAgg.draw\u001b[0;34m(self)\u001b[0m\n\u001b[1;32m      8\u001b[0m \u001b[39mdef\u001b[39;00m \u001b[39mdraw\u001b[39m(\u001b[39mself\u001b[39m):\n\u001b[1;32m      9\u001b[0m     \u001b[39msuper\u001b[39m(FigureCanvasTkAgg, \u001b[39mself\u001b[39m)\u001b[39m.\u001b[39mdraw()\n\u001b[0;32m---> 10\u001b[0m     _backend_tk\u001b[39m.\u001b[39;49mblit(\u001b[39mself\u001b[39;49m\u001b[39m.\u001b[39;49m_tkphoto, \u001b[39mself\u001b[39;49m\u001b[39m.\u001b[39;49mrenderer\u001b[39m.\u001b[39;49m_renderer, (\u001b[39m0\u001b[39;49m, \u001b[39m1\u001b[39;49m, \u001b[39m2\u001b[39;49m, \u001b[39m3\u001b[39;49m))\n\u001b[1;32m     11\u001b[0m     \u001b[39mself\u001b[39m\u001b[39m.\u001b[39m_master\u001b[39m.\u001b[39mupdate_idletasks()\n",
      "File \u001b[0;32m~/.local/lib/python3.8/site-packages/matplotlib/backends/_backend_tk.py:75\u001b[0m, in \u001b[0;36mblit\u001b[0;34m(photoimage, aggimage, offsets, bbox)\u001b[0m\n\u001b[1;32m     73\u001b[0m     bboxptr \u001b[39m=\u001b[39m (x1, x2, y1, y2)\n\u001b[1;32m     74\u001b[0m \u001b[39melse\u001b[39;00m:\n\u001b[0;32m---> 75\u001b[0m     photoimage\u001b[39m.\u001b[39;49mblank()\n\u001b[1;32m     76\u001b[0m     bboxptr \u001b[39m=\u001b[39m (\u001b[39m0\u001b[39m, width, \u001b[39m0\u001b[39m, height)\n\u001b[1;32m     77\u001b[0m _tkagg\u001b[39m.\u001b[39mblit(\n\u001b[1;32m     78\u001b[0m     photoimage\u001b[39m.\u001b[39mtk\u001b[39m.\u001b[39minterpaddr(), \u001b[39mstr\u001b[39m(photoimage), dataptr, offsets, bboxptr)\n",
      "File \u001b[0;32m/usr/lib/python3.8/tkinter/__init__.py:4068\u001b[0m, in \u001b[0;36mPhotoImage.blank\u001b[0;34m(self)\u001b[0m\n\u001b[1;32m   4066\u001b[0m \u001b[39mdef\u001b[39;00m \u001b[39mblank\u001b[39m(\u001b[39mself\u001b[39m):\n\u001b[1;32m   4067\u001b[0m     \u001b[39m\"\"\"Display a transparent image.\"\"\"\u001b[39;00m\n\u001b[0;32m-> 4068\u001b[0m     \u001b[39mself\u001b[39;49m\u001b[39m.\u001b[39;49mtk\u001b[39m.\u001b[39;49mcall(\u001b[39mself\u001b[39;49m\u001b[39m.\u001b[39;49mname, \u001b[39m'\u001b[39;49m\u001b[39mblank\u001b[39;49m\u001b[39m'\u001b[39;49m)\n",
      "\u001b[0;31mTclError\u001b[0m: invalid command name \"pyimage10\""
     ]
    }
   ],
   "source": [
    "# Visualization:\n",
    "np.random.seed(0)\n",
    "correspondence = np.load('data/some_corresp_noisy.npz') # Loading noisy correspondences\n",
    "intrinsics = np.load('data/intrinsics.npz') # Loading the intrinscis of the camera\n",
    "K1, K2 = intrinsics['K1'], intrinsics['K2']\n",
    "pts1, pts2 = correspondence['pts1'], correspondence['pts2']\n",
    "im1 = plt.imread('data/im1.png')\n",
    "im2 = plt.imread('data/im2.png')\n",
    "\n",
    "M=np.max([*im1.shape, *im2.shape])\n",
    "F, inliners = ransacF(pts1, pts2, M)\n",
    "pts1_inliners = pts1[inliners.squeeze(), :]\n",
    "pts2_inliners = pts2[inliners.squeeze(), :]\n",
    "\n",
    "M1 = np.hstack((np.identity(3), np.zeros(3)[:,np.newaxis]))\n",
    "C1 = K1.dot(M1)\n",
    "# print(F, inliners)\n",
    "M2_init,C2, P_init = find_M2(F, pts1_inliners, pts2_inliners, intrinsics)\n",
    "\n",
    "M2, P_final, obj_start, obj_end = bundleAdjustment(K1, M1, pts1_inliners, K2, M2_init, pts2_inliners, P_init)\n",
    "print(f\"Before {obj_start}, After {obj_end}\")\n",
    "# plot_3D_dual(P_init, P_final) ## comment to visualize, uncomment when submitting to gradescope\n"
   ]
  },
  {
   "cell_type": "code",
   "execution_count": null,
   "metadata": {},
   "outputs": [
    {
     "ename": "IndexError",
     "evalue": "list index out of range",
     "output_type": "error",
     "traceback": [
      "\u001b[0;31m---------------------------------------------------------------------------\u001b[0m",
      "\u001b[0;31mIndexError\u001b[0m                                Traceback (most recent call last)",
      "\u001b[1;32m/home/harshad/learning/tutorial-env/CV/hw5/q3.ipynb Cell 16\u001b[0m in \u001b[0;36m<cell line: 1>\u001b[0;34m()\u001b[0m\n\u001b[0;32m----> <a href='vscode-notebook-cell:/home/harshad/learning/tutorial-env/CV/hw5/q3.ipynb#X32sZmlsZQ%3D%3D?line=0'>1</a>\u001b[0m plot_3D_dual(P_init, P_final)\n",
      "\u001b[1;32m/home/harshad/learning/tutorial-env/CV/hw5/q3.ipynb Cell 16\u001b[0m in \u001b[0;36mplot_3D_dual\u001b[0;34m(P_before, P_after)\u001b[0m\n\u001b[1;32m     <a href='vscode-notebook-cell:/home/harshad/learning/tutorial-env/CV/hw5/q3.ipynb#X32sZmlsZQ%3D%3D?line=20'>21</a>\u001b[0m ax\u001b[39m.\u001b[39mscatter(P_after[:,\u001b[39m0\u001b[39m], P_after[:,\u001b[39m1\u001b[39m], P_after[:,\u001b[39m2\u001b[39m], c\u001b[39m=\u001b[39m\u001b[39m'\u001b[39m\u001b[39mred\u001b[39m\u001b[39m'\u001b[39m)\n\u001b[1;32m     <a href='vscode-notebook-cell:/home/harshad/learning/tutorial-env/CV/hw5/q3.ipynb#X32sZmlsZQ%3D%3D?line=21'>22</a>\u001b[0m \u001b[39mwhile\u001b[39;00m \u001b[39mTrue\u001b[39;00m:\n\u001b[0;32m---> <a href='vscode-notebook-cell:/home/harshad/learning/tutorial-env/CV/hw5/q3.ipynb#X32sZmlsZQ%3D%3D?line=22'>23</a>\u001b[0m     x, y \u001b[39m=\u001b[39m plt\u001b[39m.\u001b[39;49mginput(\u001b[39m1\u001b[39;49m, mouse_stop\u001b[39m=\u001b[39;49m\u001b[39m2\u001b[39;49m)[\u001b[39m0\u001b[39;49m]\n\u001b[1;32m     <a href='vscode-notebook-cell:/home/harshad/learning/tutorial-env/CV/hw5/q3.ipynb#X32sZmlsZQ%3D%3D?line=23'>24</a>\u001b[0m     plt\u001b[39m.\u001b[39mdraw()\n",
      "\u001b[0;31mIndexError\u001b[0m: list index out of range"
     ]
    }
   ],
   "source": [
    "# plot_3D_dual(P_init, P_final)"
   ]
  },
  {
   "cell_type": "code",
   "execution_count": null,
   "metadata": {},
   "outputs": [],
   "source": [
    "a = np.zeros((3,3))\n",
    "a\n",
    "b = np.concatenate((a, np.ones((3,1))), axis=1)\n",
    "b"
   ]
  }
 ],
 "metadata": {
  "kernelspec": {
   "display_name": "Python 3.8.10 64-bit",
   "language": "python",
   "name": "python3"
  },
  "language_info": {
   "codemirror_mode": {
    "name": "ipython",
    "version": 3
   },
   "file_extension": ".py",
   "mimetype": "text/x-python",
   "name": "python",
   "nbconvert_exporter": "python",
   "pygments_lexer": "ipython3",
   "version": "3.8.10"
  },
  "toc": {
   "base_numbering": 1,
   "nav_menu": {},
   "number_sections": false,
   "sideBar": true,
   "skip_h1_title": false,
   "title_cell": "Table of Contents",
   "title_sidebar": "Contents",
   "toc_cell": false,
   "toc_position": {
    "height": "calc(100% - 180px)",
    "left": "10px",
    "top": "150px",
    "width": "341.108px"
   },
   "toc_section_display": true,
   "toc_window_display": true
  },
  "vscode": {
   "interpreter": {
    "hash": "916dbcbb3f70747c44a77c7bcd40155683ae19c65e1c03b4aa3499c5328201f1"
   }
  }
 },
 "nbformat": 4,
 "nbformat_minor": 2
}
