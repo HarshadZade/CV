{
 "cells": [
  {
   "cell_type": "code",
   "execution_count": null,
   "metadata": {},
   "outputs": [],
   "source": []
  },
  {
   "cell_type": "markdown",
   "metadata": {
    "deletable": false,
    "editable": false,
    "nbgrader": {
     "cell_type": "markdown",
     "checksum": "4c15d1647e4568db3fd00a3cb5887da3",
     "grade": false,
     "grade_id": "header",
     "locked": true,
     "schema_version": 3,
     "solution": false,
     "task": false
    }
   },
   "source": [
    "<img align=\"center\" src=\"data/handout/course.png\" width=\"800\">\n",
    "\n",
    "## Hough Transform - Assignment 1\n",
    "    Instructor: Kris                          TAs: Arka, Jinkun, Rawal, Rohan, Sheng-Yu\n",
    "\n",
    "In this assignment you will be implementing a Hough Transform based line detector. \n",
    "\n",
    "<img align=\"center\" src=\"data/handout/ht.gif\" width=\"500\">"
   ]
  },
  {
   "cell_type": "markdown",
   "metadata": {
    "deletable": false,
    "editable": false,
    "nbgrader": {
     "cell_type": "markdown",
     "checksum": "e7774173427921d9605c9d2d8c92b534",
     "grade": false,
     "grade_id": "cell-ee45598a54db40ca",
     "locked": true,
     "schema_version": 3,
     "solution": false,
     "task": false
    }
   },
   "source": [
    "---\n",
    "## Theory Questions (25 points)\n",
    "**Grading**: \n",
    "- Each question is 5 points. \n",
    "- Please add your answers to the writeup. Insert images whenever necessary.\n",
    "- Show all your work to obtain full credit."
   ]
  },
  {
   "cell_type": "markdown",
   "metadata": {
    "deletable": false,
    "editable": false,
    "nbgrader": {
     "cell_type": "markdown",
     "checksum": "6d8a7b9a156280b230e157fb68b81da1",
     "grade": false,
     "grade_id": "theory_q1",
     "locked": true,
     "schema_version": 3,
     "solution": false,
     "task": false
    }
   },
   "source": [
    "**Q1**: Show that using $ x\\cos \\theta + y \\sin \\theta - \\rho = 0 $, each image point $(x, y)$ results in a sinsuoid in $(\\rho, \\theta)$ hough space.  \n",
    "Use the formulation, $a \\sin \\theta + b \\cos \\theta = A \\sin(\\theta + \\phi)$ for the sinsuoid.  \n",
    "Write the amplitude \\\\(A \\\\) and phase \\\\( \\phi \\\\) of the sinusoid as a function of \\\\( (x, y) \\\\). "
   ]
  },
  {
   "cell_type": "markdown",
   "metadata": {
    "deletable": false,
    "nbgrader": {
     "cell_type": "markdown",
     "checksum": "b2fff622dd362c71d4a7709f51ac1b55",
     "grade": true,
     "grade_id": "theory_q1_ans",
     "locked": false,
     "points": 5,
     "schema_version": 3,
     "solution": true,
     "task": false
    }
   },
   "source": [
    "Divide the first equation by $\\sqrt{x^2 + y^2}$ on both sides. <br />\n",
    "=> $ (x\\cos \\theta)/\\sqrt{x^2 + y^2} + (y \\sin \\theta)/\\sqrt{x^2 + y^2} = \\rho / \\sqrt{x^2 + y^2} $ <br />\n",
    "From trigonometry: <br />\n",
    "Now, $x/\\sqrt{x^2 + y^2} = cos \\phi$ and $y/\\sqrt{x^2 + y^2} = sin \\phi$ <br />\n",
    "and, $A = \\sqrt{x^2 + y^2}$ <br />\n",
    "Using the identity $sin(A+B) = sinA.cosB + sinB.cosA$ <br />\n",
    "=> $ sin \\theta. cos \\phi + cos \\theta. sin \\phi = \\rho / \\sqrt{x^2 + y^2} $ <br />\n",
    "$\\phi = \\tan^{-1}(\\frac{x}{y})$ <br />\n",
    "=> $\\rho = A(sin(\\theta + \\phi))$ <br />\n",
    "=> We can see that $\\rho$ is a sinuoidal function with amplitude A, frequency and phase shift of $\\phi$ and $\\theta$ resptively; where A and $\\phi$ and functions of x and y. <br />\n",
    "Hence proved.<br />\n",
    "\n",
    "$A = \\sqrt{x^2 + y^2}$ <br />\n",
    "$\\phi = \\tan^{-1}(\\frac{x}{y})$ <br />\n",
    "\n"
   ]
  },
  {
   "cell_type": "markdown",
   "metadata": {
    "deletable": false,
    "editable": false,
    "nbgrader": {
     "cell_type": "markdown",
     "checksum": "8f1899fd8b2e4e3dd9079c2447eed607",
     "grade": false,
     "grade_id": "theory_q2",
     "locked": true,
     "schema_version": 3,
     "solution": false,
     "task": false
    }
   },
   "source": [
    "**Q2**: Why do we parameterize the line in terms of \\\\(\\rho, \\theta\\\\) instead of slope and intercept \\\\((m, c)\\\\)?  \n",
    "Also write the slope \\\\(m\\\\) and intercept \\\\(c\\\\) as a function of \\\\(\\rho\\\\) and \\\\(\\theta\\\\). "
   ]
  },
  {
   "cell_type": "markdown",
   "metadata": {
    "deletable": false,
    "nbgrader": {
     "cell_type": "markdown",
     "checksum": "55f8ec0f1a1d3026da42762e3309b17e",
     "grade": true,
     "grade_id": "theory_q2_ans",
     "locked": false,
     "points": 5,
     "schema_version": 3,
     "solution": true,
     "task": false
    }
   },
   "source": [
    "We parameterize the line in terms of $\\rho$ and $\\theta$ because in case of slope and intercept, the range of slope could be from [-$\\infty$, +$\\infty$], and so could be the case for intercept as well. Therefore, it wont be practically feaisble to represent lines in such a parameter space. On the other hand, $\\rho$ will be always within the max size of the image we are considering and range of $\\theta$ would be [0, $\\pi$], thus giving us a finite range to work with.\n",
    "\n",
    "y = mx + c <br />\n",
    "$\\rho$ = xcos($\\theta$)+ysin($\\theta$) <br />\n",
    "<br />\n",
    "=> $\\rho$ = x(cos($\\theta$)+msin($\\theta$)) + csin($\\theta$) <br />\n",
    "=> x = ($\\rho$ - csin($\\theta$))/(cos($\\theta$)+msin($\\theta$)) <br />\n",
    "and, y = (m $\\rho$ + cos($\\theta$))/(cos($\\theta$)+msin($\\theta$)) "
   ]
  },
  {
   "cell_type": "markdown",
   "metadata": {
    "deletable": false,
    "editable": false,
    "nbgrader": {
     "cell_type": "markdown",
     "checksum": "576d611c2a9de50619a0596b22673783",
     "grade": false,
     "grade_id": "theory_q3",
     "locked": true,
     "schema_version": 3,
     "solution": false,
     "task": false
    }
   },
   "source": [
    "**Q3**: Assume the image points \\\\((x, y)\\\\) are in an image of width \\\\(W\\\\) and height \\\\(H\\\\), \\\\(x \\in [1, W], y \\in [1, H]\\\\).  \n",
    "What is the maximum absolute value of \\\\(\\rho\\\\) and what is the range of \\\\(\\theta\\\\)?"
   ]
  },
  {
   "cell_type": "markdown",
   "metadata": {
    "deletable": false,
    "nbgrader": {
     "cell_type": "markdown",
     "checksum": "57ae4a7360308f9ea4ffde5d34fa0a3e",
     "grade": true,
     "grade_id": "theory_q3_ans",
     "locked": false,
     "points": 5,
     "schema_version": 3,
     "solution": true,
     "task": false
    }
   },
   "source": [
    "Maximum absolute value of $\\rho = \\sqrt{W^2 + H^2}$; and range of $\\theta$ = [0, 2 $\\pi$]."
   ]
  },
  {
   "cell_type": "markdown",
   "metadata": {
    "deletable": false,
    "editable": false,
    "nbgrader": {
     "cell_type": "markdown",
     "checksum": "c504a8b632334522118747924e9e249e",
     "grade": false,
     "grade_id": "theory_q4",
     "locked": true,
     "schema_version": 3,
     "solution": false,
     "task": false
    }
   },
   "source": [
    "**Q4**: For points $(10, 10)$, $(15, 15)$ and $(30, 30)$ in the image, plot the corresponding sinusoid waves in Hough space $(\\rho, \\theta)$.  \n",
    "Also visualize how their intersection point defines the line (what is ($m, c$) for this line?).  \n",
    "Please add the plot as image."
   ]
  },
  {
   "cell_type": "markdown",
   "metadata": {
    "deletable": false,
    "nbgrader": {
     "cell_type": "markdown",
     "checksum": "a5145d792542757d2b951105d48cbbcb",
     "grade": true,
     "grade_id": "theory_q4_ans",
     "locked": false,
     "points": 5,
     "schema_version": 3,
     "solution": true,
     "task": false
    }
   },
   "source": [
    "![](theoryQ3.jpeg) <br />\n",
    "$\\theta$ = 135&deg; <br />\n",
    "And this angle is the angle of line perpendicular to the line of consoderation. Therefore, the slope of the plotted line would be = 135&deg; - 90&deg; = 45&deg;. i.e., slope m = 1."
   ]
  },
  {
   "cell_type": "markdown",
   "metadata": {
    "deletable": false,
    "editable": false,
    "nbgrader": {
     "cell_type": "markdown",
     "checksum": "5cc16b8a2cb6668755507b6b2a4df324",
     "grade": false,
     "grade_id": "theory_q5",
     "locked": true,
     "schema_version": 3,
     "solution": false,
     "task": false
    }
   },
   "source": [
    "**Q5**: How does the dimension of parameter space affects Hough Transform method? What would you do when the parameter space is high, i.e., 3D or 4D instead of 2D? Briefly explain your method."
   ]
  },
  {
   "cell_type": "markdown",
   "metadata": {
    "deletable": false,
    "nbgrader": {
     "cell_type": "markdown",
     "checksum": "8c8bb0c0b11471122110f0a30f039b46",
     "grade": true,
     "grade_id": "theory_q5_ans",
     "locked": false,
     "points": 5,
     "schema_version": 3,
     "solution": true,
     "task": false
    }
   },
   "source": [
    "With a higher the dimension of paramater space, we can capture more various types/complex features. For example, a line can be represented using 2 dimensional paramater space; ie, an edge in an image can be captured using 2-dimensional accumulator matrix. But if we want to caputer a circle we will require a 3-dimensional accumulator array that will have information of the centre of the circle (which will require 2 dimensions) and the radius. Similarly we can extend this logic for different features like ellipse, frustum, etc. <br /> <br />\n",
    "Method: The overall flow for implementing the Hough Transform method will still be the same.\n",
    "Although The H matrix that we will construct while implementing the Hough Transform method, will have dimensions corresponding to dimension of the paramater space. If the paramater space is 3D, then the H matrix will also be 3D. And we will have to iterate for all the dimensions for each point. So it'll require more computation."
   ]
  },
  {
   "cell_type": "markdown",
   "metadata": {},
   "source": [
    "Q4. Part B figures. <br />\n",
    "Image idx = 0\n",
    "![](0.png) <br />"
   ]
  },
  {
   "cell_type": "markdown",
   "metadata": {},
   "source": [
    "Image idx = 1\n",
    "![](1.png) <br />"
   ]
  },
  {
   "cell_type": "markdown",
   "metadata": {},
   "source": [
    "Image idx = 2\n",
    "![](2.png) <br />"
   ]
  },
  {
   "cell_type": "markdown",
   "metadata": {},
   "source": [
    "Image idx = 3\n",
    "![](3.png) <br />"
   ]
  },
  {
   "cell_type": "markdown",
   "metadata": {},
   "source": [
    "Image idx = 4\n",
    "![](4.png) <br />"
   ]
  },
  {
   "cell_type": "markdown",
   "metadata": {},
   "source": [
    "Image idx = 5\n",
    "![](5.png) <br />"
   ]
  },
  {
   "cell_type": "markdown",
   "metadata": {},
   "source": [
    "Image idx = 6\n",
    "![](6.png) <br />"
   ]
  },
  {
   "cell_type": "markdown",
   "metadata": {},
   "source": [
    "Image idx = 7\n",
    "![](7.png) <br />"
   ]
  },
  {
   "cell_type": "markdown",
   "metadata": {},
   "source": [
    "Image idx = 8\n",
    "![](8.png) <br />"
   ]
  },
  {
   "cell_type": "markdown",
   "metadata": {},
   "source": [
    "Image idx = 9\n",
    "![](9.png) <br />"
   ]
  }
 ],
 "metadata": {
  "kernelspec": {
   "display_name": "Python 3.8.10 ('CV': venv)",
   "language": "python",
   "name": "python3"
  },
  "language_info": {
   "codemirror_mode": {
    "name": "ipython",
    "version": 3
   },
   "file_extension": ".py",
   "mimetype": "text/x-python",
   "name": "python",
   "nbconvert_exporter": "python",
   "pygments_lexer": "ipython3",
   "version": "3.8.10"
  },
  "toc": {
   "base_numbering": 1,
   "nav_menu": {},
   "number_sections": true,
   "sideBar": true,
   "skip_h1_title": false,
   "title_cell": "Table of Contents",
   "title_sidebar": "Contents",
   "toc_cell": false,
   "toc_position": {
    "height": "calc(100% - 180px)",
    "left": "10px",
    "top": "150px",
    "width": "384px"
   },
   "toc_section_display": true,
   "toc_window_display": true
  },
  "vscode": {
   "interpreter": {
    "hash": "55dbb2de7c47287b5f70fe74369ca3a77b1eb672aa5f3350260f8953833b967b"
   }
  }
 },
 "nbformat": 4,
 "nbformat_minor": 4
}
