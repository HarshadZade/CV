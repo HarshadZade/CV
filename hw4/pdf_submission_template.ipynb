{
 "cells": [
  {
   "cell_type": "code",
   "execution_count": null,
   "id": "2f1d3850",
   "metadata": {},
   "outputs": [],
   "source": []
  },
  {
   "cell_type": "markdown",
   "id": "expired-modification",
   "metadata": {
    "deletable": false,
    "editable": false,
    "nbgrader": {
     "cell_type": "markdown",
     "checksum": "90d6d6a6e781d4183b528544a2045ee4",
     "grade": false,
     "grade_id": "q1-note2",
     "locked": true,
     "schema_version": 3,
     "solution": false,
     "task": false
    }
   },
   "source": [
    "## Question 1: Homography Theory\n",
    "\n",
    "Suppose we have two cameras $\\mathbf{C}_1$ and $\\mathbf{C}_2$ looking at a common plane $\\Pi$ in 3D space.  Any 3D point $\\mathbf{P}$ on $\\Pi$ generates a\n",
    "projected 2D point located at $\\mathbf{p} \\equiv (u_1,v_1,1)^T$ on the first\n",
    "camera $\\mathbf{C}_1$ and $\\mathbf{q} \\equiv (u_2,v_2,1)^T$ on the second camera\n",
    "$\\mathbf{C}_2$.  Since $\\mathbf{P}$ is confined to the plane $\\Pi$, we expect\n",
    "that there is a relationship between $\\mathbf{p}$ and $\\mathbf{q}$.  In\n",
    "particular, there exists a common 3 $\\times$ 3 matrix $\\mathbf{H}$, so that for\n",
    "any $\\mathbf{p}$ and $\\mathbf{q}$, the following conditions holds:\n",
    "$$\n",
    "\\begin{equation}\n",
    "\\mathbf{p \\equiv Hq}\n",
    "\\label{eq:homography}\n",
    "\\end{equation}\n",
    "$$\n",
    "We call this relationship **planar homography**.  Recall that both\n",
    "$\\mathbf{p}$ and $\\mathbf{q}$ are in homogeneous coordinates and the equality\n",
    "$\\equiv$ means $\\mathbf{p}$ is proportional to $\\mathbf{Hq}$ (recall homogeneous\n",
    "coordinates).  It turns out this\n",
    "relationship is also true for cameras that are related by pure rotation without the planar constraint."
   ]
  },
  {
   "cell_type": "markdown",
   "id": "manual-trail",
   "metadata": {
    "deletable": false,
    "editable": false,
    "nbgrader": {
     "cell_type": "markdown",
     "checksum": "84867b1201d44d40d53b2f2bca681d99",
     "grade": false,
     "grade_id": "q1-note3",
     "locked": true,
     "schema_version": 3,
     "solution": false,
     "task": false
    }
   },
   "source": [
    "### 1.1 Homography (5 points)\n",
    "\n",
    "Prove that there exists an $\\mathbf{H}$ that\n",
    "satisfies $\\mathbf{p \\equiv Hq}$ given two ${3 \\times 4}$ camera projection\n",
    "matrices $\\mathbf{M_1}$ and $\\mathbf{M_2}$ corresponding to cameras\n",
    "$\\mathbf{C_1}$, $\\mathbf{C_2}$ and a plane $\\Pi$.  Do not produce an actual\n",
    "algebraic expression for $\\mathbf{H}$.  All we are asking for is a proof of\n",
    "the existence of $\\mathbf{H}$.\n",
    "\n",
    "*Note: A degenerate case may happen when the\n",
    "plane $\\Pi$ contains both cameras' centers, in which case there are infinite\n",
    "choices of $\\mathbf{H}$ satisfying $\\mathbf{p \\equiv Hq}$.  You can\n",
    "ignore this case in your answer.*"
   ]
  },
  {
   "cell_type": "markdown",
   "id": "wired-mainstream",
   "metadata": {},
   "source": [
    "For any given point in the plane $\\Pi$ we can write its projection as the product of a homograpgy matix and the point. <br/>\n",
    "\n",
    "For camera 1: <br/>\n",
    "$p = M_{1}*x_{\\Pi} $<br/>\n",
    "For camera 1: <br/>\n",
    "$q= M_{2}*x_{\\Pi} $<br/>\n",
    "\n",
    "Therefore, we can write:\n",
    "$p \\equiv M_{1}*(M_{2}^{-1}*q)$\n",
    "which can be written as: <br/>\n",
    "$p \\equiv H*q$ where, <br/>\n",
    "$H = M_{1}*M_{2}^{-1}$ <br/>\n",
    "\n",
    "Hence proved the there exists a homograpgy that maps the two projections of the same point for two cameras.\n"
   ]
  },
  {
   "cell_type": "markdown",
   "id": "living-tanzania",
   "metadata": {
    "deletable": false,
    "editable": false,
    "nbgrader": {
     "cell_type": "markdown",
     "checksum": "6e57a9900a6e42308160ffe52f855eac",
     "grade": false,
     "grade_id": "q1-note4",
     "locked": true,
     "schema_version": 3,
     "solution": false,
     "task": false
    }
   },
   "source": [
    "### 1.2 Homography under rotation (5 points)\n",
    "\n",
    "Prove that there exists a homography $\\mathbf{H}$ that satisfies $\\mathbf{p_1} \\equiv \\mathbf{Hp_2}$, given two cameras separated by a pure rotation. That is, for camera 1, $\\mathbf{p_1} = \\mathbf{K_1} \\begin{bmatrix} \\mathbf{I} & \\mathbf{0} \\end{bmatrix} \\mathbf{P}$ and for camera 2, $\\mathbf{p_2} = \\mathbf{K_2} \\begin{bmatrix}\\mathbf{R} & \\mathbf{0} \\end{bmatrix} \\mathbf{P}$. Note that $\\mathbf{K_1}$ and $\\mathbf{K_2}$ are the $3 \\times 3$ intrinsic matrices of the two cameras and are different. $\\mathbf{I}$ is $3 \\times 3$ identity matrix, $\\mathbf{0}$ is a $3\\times1$ zero vector and $\\mathbf{P}$ is the homogeneous coordinate of a point in 3D space. $\\mathbf{R}$ is the $3 \\times 3$ rotation matrix of the camera."
   ]
  },
  {
   "cell_type": "markdown",
   "id": "noted-movement",
   "metadata": {},
   "source": [
    "---\n",
    "We can write $p_{1}$ as:\n",
    "\n",
    "$\n",
    "p_1 = {K_1} \\begin{bmatrix} {I} & {0} \\end{bmatrix} {P} \\\\\n",
    "p_1 \\equiv K_1 P^\\prime \\\\\n",
    "where \\\\\n",
    "P^\\prime = \n",
    "\\begin{bmatrix}\n",
    "X \\\\\n",
    "Y \\\\\n",
    "Z \\\\\n",
    "\\end{bmatrix}\n",
    "$\n",
    "\n",
    "Similarly we can write $p_{2}$ as: \n",
    "\n",
    "$\n",
    "p_2 = {K_2} \\begin{bmatrix} {R} & {0} \\end{bmatrix} {P} \\\\\n",
    "p_2 = {K_2} R \\begin{bmatrix} {I} & {0} \\end{bmatrix} {P} \\\\\n",
    "p_2 \\equiv K_2 R P^\\prime \\\\\n",
    "$\n",
    "\n",
    "\n",
    "Therefore we can write $p_{1}$ as: <br/>\n",
    "$p_{1} \\equiv K_{1}(K_{2}^{-1} R^{-1} p_{2})$ <br/>\n",
    "Therefore we can write: <br/>\n",
    "$p_1 \\equiv Hp_2, where H = K_{1}K_{2}^{-1} R^{-1}$ <br/>\n",
    "\n",
    "Hence proved that there exists a homography ${H}$ that satisfies ${p_1} \\equiv {Hp_2}$, given two cameras separated by a pure rotation.\n",
    "\n",
    "---"
   ]
  },
  {
   "cell_type": "markdown",
   "id": "collect-lease",
   "metadata": {
    "deletable": false,
    "editable": false,
    "nbgrader": {
     "cell_type": "markdown",
     "checksum": "ed7c9db6948ddb8877b01a20f4925db2",
     "grade": false,
     "grade_id": "q1-note5",
     "locked": true,
     "schema_version": 3,
     "solution": false,
     "task": false
    }
   },
   "source": [
    "### 1.3 Correspondences (10 points)\n",
    "\n",
    "Let $\\mathbf{x_1}$ be a set of points in an image and $\\mathbf{x_2}$ be the set of corresponding points in an image taken by another camera. Suppose there exists a homography $\\mathbf{H}$ such that:\n",
    "$\\mathbf{x^i_1} \\equiv \\mathbf{Hx^i_2}\\quad(i \\in \\{1\\dots N\\})$\n",
    "where $\\mathbf{x^i_1} = \\left[\\begin{matrix}x^i_1 & y^i_1 & 1\\end{matrix}\\right]^T$ are in homogenous coordinates, $\\mathbf{x_1^i \\in \\mathbf{x_1}}$ and $\\mathbf{H}$ is a $3 \\times 3$ matrix. For each point pair, this relation can be rewritten as\n",
    "\\begin{equation*}\n",
    "\\mathbf{A_ih} = 0\n",
    "\\end{equation*}\n",
    "where $\\mathbf{h}$ is a column vector reshaped from $\\mathbf{H}$, and $\\mathbf{A_i}$ is a matrix with elements derived from the points $\\mathbf{x^i_1}$ and $\\mathbf{x^i_2}$. This can help calculate **H** from the given point correspondences.\n",
    "\n",
    "   - How many degrees of freedom does $\\mathbf{h}$ have? (3 points)\n",
    "\n",
    "   - How many point pairs are required to solve $\\mathbf{h}$? (2 points)\n",
    "\n",
    "   - Derive $\\mathbf{A_i}$. (5 points)"
   ]
  },
  {
   "cell_type": "markdown",
   "id": "intensive-geneva",
   "metadata": {},
   "source": [
    "${h}$ has $8$ degrees of freedom. \n",
    "\n",
    "\n",
    "Minimum $4$ point pairs are required to solve $\\mathbf{h}$ . \n",
    "\n",
    "\n",
    "Derivation: <br/>\n",
    "\n",
    "<!-- $\\mathbf{x^i_1} = \\left[\\begin{matrix}x^i_1 \\\\ y^i_1 & 1\\end{matrix}\\right]^T$ -->\n",
    "\n",
    "Given ${x^i_1} \\equiv {Hx^i_2}\\quad(i \\in \\{1\\dots N\\})$ and ${x^i_1} = \\left[\\begin{matrix}x^i_1 & y^i_1 & 1\\end{matrix}\\right]^T$\n",
    "\n",
    "We can write: \n",
    "$ \\left[\\begin{array}{lll} x_{1}^i\\\\ y_{1}^i\\\\ 1 \\end{array}\\right] =$ \n",
    "$ \\left[\\begin{array}{lll} h_{11} & h_{12} & h_{13} \\\\ h_{21} & h_{22} & h_{23} \\\\ h_{31} & h_{32} & h_{33} \\end{array}\\right] $\n",
    "$ \\left[\\begin{array}{lll} x_{2}^i \\\\ y_{2}^i \\\\ 1 \\end{array}\\right] $\n",
    "\n",
    "==>\n",
    "\n",
    "$x_{1}^i = h_{11}x_{2}^i + h_{12}y_{2}^i + h_{13} $  ----(1)\n",
    "\n",
    "$y_{1}^i = h_{21}x_{2}^i + h_{22}y_{2}^i + h_{23} $  ----(2)\n",
    "\n",
    "$1 = h_{31}x_{2}^i + h_{32}y_{2}^i + h_{33}$   ----(3)\n",
    "\n",
    "Deviding 1 and 2 by 3,\n",
    "\n",
    "$x_{1}^i(h_{31}x_{2}^i + h_{32}y_{2}^i + h_{33}) = h_{11}x_{2}^i + h_{12}y_{2}^i + h_{13} $\n",
    "\n",
    "$y_{1}^i(h_{31}x_{2}^i + h_{32}y_{2}^i + h_{33}) = h_{21}x_{2}^i + h_{22}y_{2}^i + h_{23} $\n",
    "\n",
    "==>\n",
    "\n",
    "$h_{31}x_{1}^i x_{2}^i + h_{32}x_{1}^i y_{2}^i + h_{33}x_{1}^i = h_{11}x_{2}^i + h_{12}y_{2}^i + h_{13} $\n",
    "\n",
    "$h_{31}y_{1}^i x_{2}^i + h_{32}y_{1}^i y_{2}^i +  h_{33} y_{1}^i = h_{21}x_{2}^i + h_{22}y_{2}^i + h_{23} $\n",
    "\n",
    "==>\n",
    "\n",
    "$h_{31}x_{1}^i x_{2}^i + h_{32}x_{1}^i y_{2}^i + h_{33}x_{1}^i - h_{11}x_{2}^i - h_{12}y_{2}^i - h_{13} = 0$\n",
    "\n",
    "$h_{31}y_{1}^i x_{2}^i + h_{32}y_{1}^i y_{2}^i +  h_{33} y_{1}^i - h_{21}x_{2}^i - h_{22}y_{2}^i - h_{23} = 0$\n",
    "\n",
    "\n",
    "This can be represented in the matrix form as, \n",
    "\n",
    "$A_i$ = $ \\left[\\begin{array}{lllllllll}\n",
    "-x_{1}^i & -y_{1}^i & -1 & 0 & 0 & 0 & -x_{1}^ix_{2}^i & -y_{1}^ix_{2}^i & x_{2}^i \\\\\n",
    "0 & 0 & 0 & -x_{1}^i & -y_{1}^i & -1 & -x_{1}^iy_{2}^i & -y_{1}^iy_{2}^i & y_{2}^i  \\end{array}\\right] $\n",
    "\n",
    "\n",
    "\n",
    "<!-- \n",
    "We can write $A_ih$ as, \n",
    "\n",
    "$A_i h$ = $ \\left[\\begin{array}{lllllllll}\n",
    "-x_{1}^i & -y_{1}^i & -1 & 0 & 0 & 0 & -x_{1}^ix_{2}^i & -y_{1}^ix_{2}^i & x_{2}^i \\\\\n",
    "0 & 0 & 0 & -x_{1}^i & -y_{1}^i & -1 & -x_{1}^iy_{2}^i & -y_{1}^iy_{2}^i & y_{2}^i  \\end{array}\\right] \n",
    "\\left[\\begin{array}{lllllllll}\n",
    "h_{11} \\\\ h_{12} \\\\ h_{13} \\\\ h_{21} \\\\ h_{22} \\\\ h_{23} \\\\ h_{31} \\\\ h_{32} \\\\ h_{33} \n",
    "\\end{array}\\right]\n",
    "-->\n",
    "\n",
    "For N points $A$ will be a stack of all $A_i$ for $i \\in \\{1\\dots N\\}$.\n",
    "\n",
    "\n",
    "\n",
    "---"
   ]
  },
  {
   "cell_type": "markdown",
   "id": "traditional-bathroom",
   "metadata": {
    "deletable": false,
    "editable": false,
    "nbgrader": {
     "cell_type": "markdown",
     "checksum": "21c1f9a3ed29227280c319a060f9a655",
     "grade": false,
     "grade_id": "q1-note6",
     "locked": true,
     "schema_version": 3,
     "solution": false,
     "task": false
    }
   },
   "source": [
    "### 1.4 Understanding homographies under rotation (5 points)\n",
    "\n",
    "Suppose that a camera is rotating about its center $\\mathbf{C}$, keeping the intrinsic parameters $\\mathbf{K}$ constant. Let $\\mathbf{H}$ be the homography that maps the view from one camera orientation to the view at a second orientation. Let $\\theta$ be the angle of rotation between the two. Show that $\\mathbf{H^2}$ is the homography corresponding to a rotation of 2$\\theta$. Please limit your answer within a couple of lines. A lengthy proof indicates that you're doing something too complicated (or wrong)."
   ]
  },
  {
   "cell_type": "markdown",
   "id": "meaningful-affect",
   "metadata": {},
   "source": [
    "Let, $img_{0}$ be the image that we get with the original orientation and, <br/>\n",
    "$img_{\\theta}$ be the image obtained after rotating the camera by $\\theta$ <br/>\n",
    "Then we can write <br/>\n",
    "$img_{2\\theta}$ after rotating by an angle of $2\\theta$ as: <br/>\n",
    "$img_{2\\theta} = Himg_{\\theta} = H(Himg_{0}) = H^2img_{0}$"
   ]
  },
  {
   "cell_type": "markdown",
   "id": "dietary-success",
   "metadata": {
    "deletable": false,
    "editable": false,
    "nbgrader": {
     "cell_type": "markdown",
     "checksum": "fc12026419304f939c2764b0ef68890f",
     "grade": false,
     "grade_id": "q1-note7",
     "locked": true,
     "schema_version": 3,
     "solution": false,
     "task": false
    }
   },
   "source": [
    "### 1.5 Limitations of the planar homography (2 points)\n",
    "\n",
    "Why is the planar homography not completely sufficient to map any arbitrary scene image to another viewpoint? State your answer concisely in one or two sentences."
   ]
  },
  {
   "cell_type": "markdown",
   "id": "03534cba-4d31-48c4-81e0-a86aa3c74ff2",
   "metadata": {},
   "source": [
    "It because it is not necessary that the objects in an arbitrary scene would lie on the same plane."
   ]
  },
  {
   "cell_type": "markdown",
   "id": "burning-submission",
   "metadata": {
    "deletable": false,
    "editable": false,
    "nbgrader": {
     "cell_type": "markdown",
     "checksum": "719b48cf270e17e6ebadf444a0df3065",
     "grade": false,
     "grade_id": "q1-note8",
     "locked": true,
     "schema_version": 3,
     "solution": false,
     "task": false
    },
    "tags": []
   },
   "source": [
    "### 1.6 Behavior of lines under perspective projections (3 points)\n",
    "\n",
    "We stated in class that perspective projection preserves lines (a line in 3D is projected to a line in 2D). Verify algebraically that this is the case, i.e., verify that the projection $\\mathbf{P}$ in $\\mathbf{x} = \\mathbf{PX}$ preserves lines."
   ]
  },
  {
   "cell_type": "markdown",
   "id": "2c158f3d-651b-4fbe-8d73-3ffa5470d08f",
   "metadata": {},
   "source": [
    "We can consider the 3D line $L$ as <br/>\n",
    "$L = X_1 + \\lambda(X_2-X_1)$. <br/>\n",
    "Now consider $l$ as the projection of $L$ on the image. <br/>\n",
    "Therefore we can write: <br/>\n",
    "$ x_1=PX_1$ and, <br/>\n",
    "$x_2=PX_2$ <br/>\n",
    "Now, <br/>\n",
    "$ L = X_1 + \\lambda(X_2-X_1) $ <br/>\n",
    "$ PL = PX_1 + \\lambda(PX_2-PX_1)$ <br/>\n",
    "$ l = x_1 + \\lambda(x_2-x_1)$ <br/>\n",
    "Hence we proved that P preserves the lines."
   ]
  },
  {
   "cell_type": "markdown",
   "id": "fixed-costs",
   "metadata": {
    "deletable": false,
    "editable": false,
    "nbgrader": {
     "cell_type": "markdown",
     "checksum": "6304540627a2f009463acebb867ebe03",
     "grade": false,
     "grade_id": "q2_4",
     "locked": true,
     "schema_version": 3,
     "solution": false,
     "task": false
    },
    "tags": []
   },
   "source": [
    "### 2.4 Check Point: Descriptor Matching (5 pts)\n",
    "\n",
    "Save the resulting figure and submit it in your PDF. Briefly discuss any cases that perform worse or better."
   ]
  },
  {
   "cell_type": "markdown",
   "id": "ce9da587-ff97-4736-b29d-e1052712c153",
   "metadata": {},
   "source": [
    "<font size = \"3\">\n",
    "When the second perspective will be rotated, or if the perspective of viewing the second image is changed the performance will be very poor. And if the second image is not changed at all, then the performance will be the best!<br />\n",
    "</font>\n",
    "---\n"
   ]
  },
  {
   "cell_type": "markdown",
   "id": "045d51a6",
   "metadata": {},
   "source": [
    "![](Q2.4.png) <br />"
   ]
  },
  {
   "cell_type": "markdown",
   "id": "attached-gabriel",
   "metadata": {
    "deletable": false,
    "editable": false,
    "nbgrader": {
     "cell_type": "markdown",
     "checksum": "874a6f5e970a402493faad319340249e",
     "grade": false,
     "grade_id": "q2_5",
     "locked": true,
     "schema_version": 3,
     "solution": false,
     "task": false
    },
    "tags": []
   },
   "source": [
    "### 2.5 BRIEF and rotations (5 pts)\n",
    "\n",
    "Include your code and the historgram figure in your PDF, and explain why you think  the descriptor behaves this way."
   ]
  },
  {
   "cell_type": "code",
   "execution_count": null,
   "id": "0df25d98",
   "metadata": {},
   "outputs": [],
   "source": [
    "from skimage.transform import rotate\n",
    "img_1 = cv2.imread(\"data/model_chickenbroth.jpg\")\n",
    "# img_1 = cv2.imread(\"data/chickenbroth_01.jpg\")\n",
    "# img_2 = rotate(img_1, 10)\n",
    "\n",
    "img_1_gr = cv2.cvtColor(img_1, cv2.COLOR_BGR2GRAY)/255\n",
    "angle_arr = []\n",
    "matches_arr =  []\n",
    "for angle in range(0,361,10):\n",
    "    img_2_gr = rotate(img_1_gr, angle)\n",
    "    locs1, desc1 = briefLite(img_1_gr)\n",
    "    locs2, desc2 = briefLite(img_2_gr)\n",
    "    matches = briefMatch(desc1, desc2)\n",
    "\n",
    "    no_of_matches = len(matches)\n",
    "    matches_arr.append(no_of_matches)\n",
    "    angle_arr.append(angle)\n",
    "\n",
    "plt.bar(angle_arr,matches_arr)\n",
    "# plotMatches(img_1_gr, img_2_gr, matches, locs1, locs2)\n",
    "\n",
    "# raise NotImplementedError()"
   ]
  },
  {
   "cell_type": "markdown",
   "id": "3d0851c9-b30c-4eb0-a3ab-bdf8fa25472a",
   "metadata": {
    "tags": []
   },
   "source": [
    "![](Q2.5.png) <br />\n",
    "---"
   ]
  },
  {
   "cell_type": "markdown",
   "id": "236f3476",
   "metadata": {},
   "source": [
    "The descriptor behaves this way because the BRIEF descriptor is not rotation invarient. Since we are just comparing same pairs of points in both the images, even a small rotation in the second image will not give the same output for (a\\<b) when we compute the descriptor about the same point of interest in both the images. This is because now the pixel values for those particular coordinates have changed! And hence we can see the best perfomance at 0 and 360 degrees, because that would mean no rotation."
   ]
  },
  {
   "cell_type": "markdown",
   "id": "rolled-conditioning",
   "metadata": {
    "deletable": false,
    "editable": false,
    "nbgrader": {
     "cell_type": "markdown",
     "checksum": "04d3f0c8590b34301c10fae68138cea1",
     "grade": false,
     "grade_id": "q2_6",
     "locked": true,
     "schema_version": 3,
     "solution": false,
     "task": false
    }
   },
   "source": [
    "### 2.6 Improving Performance - (Extra Credit, 10 pts)\n",
    "\n",
    "The extra credit opportunities described below are optional and provide an\n",
    "avenue to explore computer vision and improve the performance of the techniques developed above.\n",
    "\n",
    "   1. ($\\textbf{5 pts}$) As we have seen, BRIEF is not rotation invariant. Design a simple fix to solve this problem using the tools you have developed so far (think back to edge detection and/or Harris corner's covariance matrix).  Include yout code in your PDF, and explain your design decisions and how you selected any parameters that you use. Demonstrate the effectiveness of your algorithm on image pairs related by large rotation.\n",
    "\n",
    "   2. ($\\textbf{5 pts}$) This implementation of BRIEF has some scale invariance, but there are limits.  What happens when you match a picture to the same picture at half the size?  Look to section 3 of [Lowe2004](https://www.cs.ubc.ca/~lowe/papers/ijcv04.pdf) for a technique that will make your detector more robust to changes in scale. Implement it and demonstrate it in action with several test images. Include yout code and the test images in your PDF. You may simply rescale some of the test images we have given you. "
   ]
  },
  {
   "cell_type": "markdown",
   "id": "8bf40736-6e19-446c-b0c6-b48587eb126a",
   "metadata": {
    "tags": []
   },
   "source": [
    "---\n",
    "\n",
    "YOUR ANSWER HERE...\n",
    "\n",
    "---"
   ]
  },
  {
   "cell_type": "markdown",
   "id": "alpha-factory",
   "metadata": {
    "deletable": false,
    "editable": false,
    "nbgrader": {
     "cell_type": "markdown",
     "checksum": "4232656e2e4c13c850b080dbbfabe031",
     "grade": false,
     "grade_id": "q3_3",
     "locked": true,
     "schema_version": 3,
     "solution": false,
     "task": false
    }
   },
   "source": [
    "### 3.3 Automated Homography Estimation/Warping for Augmented Reality (10 points)\n",
    "\n",
    "Implement the following steps: \n",
    "   1. Reads $\\texttt{cv\\_cover.jpg}$, $\\texttt{cv\\_desk.png}$, and $\\texttt{hp\\_cover.jpg}$.\n",
    "   2. Computes a homography automatically using $\\texttt{computeH\\_ransac}$.\n",
    "   3. Warps $\\texttt{hp\\_cover.jpg}$ to the dimensions of the $\\texttt{cv\\_desk.png}$ image using the OpenCV $\\texttt{warpPerspective}$ function. \n",
    "   4. At this point you should notice that although the image is being warped to the correct location, it is not filling up the same space as the book. Why do you think this is happening? How would you modify $\\texttt{hp\\_cover.jpg}$ to fix this issue?\n",
    "   5. Implement the function: $\\texttt{function [ composite\\_img ] = compositeH( H2to1, template, img) }$ to now compose this warped image with the desk image as in the following figures.\n",
    "   6. Include your resulting image in your write-up. Please also print the final H matrix in your writeup (normalized so the bottom right value is 1)"
   ]
  },
  {
   "cell_type": "markdown",
   "id": "0c955486-39b6-416c-98ba-80f13c0fc540",
   "metadata": {
    "tags": []
   },
   "source": [
    "![](Q3.3.png) <br />\n",
    "\n",
    "---"
   ]
  },
  {
   "cell_type": "markdown",
   "id": "9256abe7",
   "metadata": {},
   "source": [
    "best H =  <br/>\n",
    "[[ 7.44016671e-01 -3.42216595e-01  2.36811552e+02] <br/>\n",
    " [-6.07438452e-03  2.27987366e-01  1.90975852e+02] <br/>\n",
    " [-1.98355182e-06 -9.16756738e-04  1.00000000e+00]] <br/>"
   ]
  },
  {
   "cell_type": "markdown",
   "id": "direct-hours",
   "metadata": {
    "deletable": false,
    "editable": false,
    "nbgrader": {
     "cell_type": "markdown",
     "checksum": "0c3f862f1bc038844cc25fde833787be",
     "grade": false,
     "grade_id": "q4_1",
     "locked": true,
     "schema_version": 3,
     "solution": false,
     "task": false
    }
   },
   "source": [
    "### 4.1 Image Stitching (5 pts)\n",
    "\n",
    "Visualize the warped image. Please include the image and your H2to1 matrix (with the bottom right index as 1) in your writeup PDF, along with stating which image pair you used."
   ]
  },
  {
   "cell_type": "markdown",
   "id": "3aac2ecc-e648-4cf5-aa47-767432056ed4",
   "metadata": {
    "tags": []
   },
   "source": [
    "![](Q4.1.png) <br />\n",
    "\n",
    "---"
   ]
  },
  {
   "cell_type": "markdown",
   "id": "50faf18e",
   "metadata": {},
   "source": [
    "I have used the \"incline_L.png\" and \"incline_R.png\" images. <br/>\n",
    "<br/>\n",
    "best H =  <br/>\n",
    "[[ 1.50252857e+00  5.56874101e-02 -5.43984806e+02] <br/>\n",
    " [ 1.38542971e-01  1.35434710e+00 -2.61917377e+01] <br/>\n",
    " [ 5.11112987e-04  3.56526838e-05  1.00000000e+00]] <br/>"
   ]
  },
  {
   "cell_type": "markdown",
   "id": "suspected-metadata",
   "metadata": {
    "deletable": false,
    "editable": false,
    "nbgrader": {
     "cell_type": "markdown",
     "checksum": "670353343ebe97eeea49edc51d4e2c02",
     "grade": false,
     "grade_id": "q4_2",
     "locked": true,
     "schema_version": 3,
     "solution": false,
     "task": false
    }
   },
   "source": [
    "### 4.2 Image Stitching with No Clip (3 pts)\n",
    "\n",
    "Visualize the warped image. Please include the image in your writeup PDF, along with stating which image pair you used."
   ]
  },
  {
   "cell_type": "markdown",
   "id": "cedd83af-6c3d-48b6-a70e-a7bacb7a9256",
   "metadata": {
    "tags": []
   },
   "source": [
    "I have used the \"incline_L.png\" and \"incline_R.png\" images. <br/>\n",
    "<br/>\n",
    "\n",
    "![](Q4.2_im1.png) <br />\n",
    "![](Q4.2_im2.png) <br />\n",
    "\n",
    "M =  <br />\n",
    "[[ 8.69254435e-01 -1.75253067e-13 -3.08554966e-11] <br />\n",
    " [-4.54312317e-14  8.68378806e-01  1.52980093e+02] <br />\n",
    " [-7.73871572e-17  4.54910948e-17  1.00000000e+00]] <br />\n",
    "\n",
    "H2to1 =  <br />\n",
    "[[ 6.63636571e-01 -2.81379544e-02  3.62911105e+02] <br />\n",
    " [-7.79407995e-02  8.91716001e-01 -2.02208870e+01] <br />\n",
    " [-3.53980483e-04  1.01357844e-05  1.00000000e+00]] <br />\n",
    "\n",
    "H2to1 * M =  <br />\n",
    "[[ 5.76994331e-01 -3.62383970e-02  3.21497539e+02] <br />\n",
    " [-1.19077323e-01  7.66267554e-01  1.26698272e+02] <br />\n",
    " [-3.53747176e-04 -1.54364617e-05  1.00000000e+00]] <br />\n"
   ]
  },
  {
   "cell_type": "markdown",
   "id": "trying-presentation",
   "metadata": {
    "deletable": false,
    "editable": false,
    "nbgrader": {
     "cell_type": "markdown",
     "checksum": "a942b6b65d616036124aa6c1c5f792b0",
     "grade": false,
     "grade_id": "q4_3",
     "locked": true,
     "schema_version": 3,
     "solution": false,
     "task": false
    }
   },
   "source": [
    "### 4.3 Generate Panorama (2 pts)\n",
    "\n",
    "Save the resulting panorama on the full sized images and include the figure and computed homography matrix in your writeup."
   ]
  },
  {
   "cell_type": "markdown",
   "id": "bf92a110-0685-48a7-9a3f-30be8203a100",
   "metadata": {
    "tags": []
   },
   "source": [
    "![](Q4.3.png) <br />"
   ]
  },
  {
   "cell_type": "markdown",
   "id": "3b95bb83",
   "metadata": {},
   "source": [
    "M =  <br />\n",
    "[[ 8.69254435e-01 -1.75253067e-13 -3.08554966e-11] <br />\n",
    " [-4.54312317e-14  8.68378806e-01  1.52980093e+02] <br />\n",
    " [-7.73871572e-17  4.54910948e-17  1.00000000e+00]] <br />\n",
    "\n",
    "H2to1 =  <br />\n",
    "[[ 6.63636571e-01 -2.81379544e-02  3.62911105e+02] <br />\n",
    " [-7.79407995e-02  8.91716001e-01 -2.02208870e+01] <br />\n",
    " [-3.53980483e-04  1.01357844e-05  1.00000000e+00]] <br />\n",
    "\n",
    "H2to1 * M =  <br />\n",
    "[[ 5.76994331e-01 -3.62383970e-02  3.21497539e+02] <br />\n",
    " [-1.19077323e-01  7.66267554e-01  1.26698272e+02] <br />\n",
    " [-3.53747176e-04 -1.54364617e-05  1.00000000e+00]] <br />\n"
   ]
  },
  {
   "cell_type": "markdown",
   "id": "subtle-grant",
   "metadata": {
    "deletable": false,
    "editable": false,
    "nbgrader": {
     "cell_type": "markdown",
     "checksum": "61f3929731831a39d495887a208c2772",
     "grade": false,
     "grade_id": "q4_4",
     "locked": true,
     "schema_version": 3,
     "solution": false,
     "task": false
    }
   },
   "source": [
    "### 4.4 extra credits (3 pts)\n",
    "\n",
    "Collect a pair of your own images (with your phone) and stitch them together using your code from the previous section. Include the pair of images and their result in the write-up."
   ]
  },
  {
   "cell_type": "markdown",
   "id": "287bdedd-bbf4-4f11-a614-83f18b179b8d",
   "metadata": {
    "tags": []
   },
   "source": [
    "![](anish1.jpeg) <br />\n",
    "![](dhanvi1.jpeg) <br />\n",
    "![](anish%2Bdhanvi.png) <br />"
   ]
  },
  {
   "cell_type": "markdown",
   "id": "large-yacht",
   "metadata": {
    "deletable": false,
    "editable": false,
    "nbgrader": {
     "cell_type": "markdown",
     "checksum": "b9be81bee3ac8380c1c5d4d563bc5eb2",
     "grade": false,
     "grade_id": "q4_5",
     "locked": true,
     "schema_version": 3,
     "solution": false,
     "task": false
    },
    "tags": []
   },
   "source": [
    "### 4.5 extra credits (2 pts)\n",
    "\n",
    "Collect at least 6 images  and stitch them into a single noClip image. You can either collect your own, or use the [PNC Park images](http://www.cs.jhu.edu/~misha/Code/SMG/PNC3.zip) from Matt Uyttendaele. We used the PNC park images (subsmapled to 1/4 sized) and ORB keypoints and descriptors for our reference solution."
   ]
  },
  {
   "cell_type": "markdown",
   "id": "4d3d343c-22b1-4a49-8200-fa5beada609c",
   "metadata": {
    "tags": []
   },
   "source": [
    "---\n",
    "\n",
    "YOUR ANSWER HERE...\n",
    "\n",
    "---"
   ]
  },
  {
   "cell_type": "markdown",
   "id": "confidential-falls",
   "metadata": {
    "deletable": false,
    "editable": false,
    "nbgrader": {
     "cell_type": "markdown",
     "checksum": "6131a12e81b99127f4e25c5d4fb6a4b9",
     "grade": false,
     "grade_id": "q5",
     "locked": true,
     "schema_version": 3,
     "solution": false,
     "task": false
    }
   },
   "source": [
    "## Question 5: Poisson Image Stitching (15 points)\n",
    "\n",
    "Write a function called $\\texttt{poisson_blend(background,foreground,mask)}$ which takes 3 equal sized images (background and foreground as RGB, mask as binary) and solves the Poisson equation, using gradients from foreground and boundary conditions from the background. \n",
    "\n",
    "**The problem will be manually graded.** Please include results from both the $\\texttt{(fg1,bg1,mask1)}$ and $\\texttt{(fg2,bg2,mask2)}$ images in your write-up."
   ]
  },
  {
   "cell_type": "markdown",
   "id": "8b6566ea-87da-44c3-a02e-d605e51a2bce",
   "metadata": {
    "tags": []
   },
   "source": [
    "---\n",
    "\n",
    "YOUR ANSWER HERE...\n",
    "\n",
    "---"
   ]
  }
 ],
 "metadata": {
  "kernelspec": {
   "display_name": "Python 3.8.10 64-bit",
   "language": "python",
   "name": "python3"
  },
  "language_info": {
   "codemirror_mode": {
    "name": "ipython",
    "version": 3
   },
   "file_extension": ".py",
   "mimetype": "text/x-python",
   "name": "python",
   "nbconvert_exporter": "python",
   "pygments_lexer": "ipython3",
   "version": "3.8.10"
  },
  "vscode": {
   "interpreter": {
    "hash": "916dbcbb3f70747c44a77c7bcd40155683ae19c65e1c03b4aa3499c5328201f1"
   }
  }
 },
 "nbformat": 4,
 "nbformat_minor": 5
}
